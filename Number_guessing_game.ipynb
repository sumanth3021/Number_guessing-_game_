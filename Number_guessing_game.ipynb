{
 "cells": [
  {
   "cell_type": "markdown",
   "id": "4d729742-efbe-4a26-b01a-efd733cb309f",
   "metadata": {},
   "source": [
    "# NUMBER GUESSING GAME"
   ]
  },
  {
   "cell_type": "code",
   "execution_count": null,
   "id": "5edc2415-ad55-42ca-b1a1-53495608d232",
   "metadata": {},
   "outputs": [
    {
     "name": "stdout",
     "output_type": "stream",
     "text": [
      "let me think of a number between 1 to 50\n"
     ]
    }
   ],
   "source": [
    "import random\n",
    "\n",
    "EASY_LEVEL_ATTEMPTS = 10\n",
    "HARD_LEVEL_ATTEMPTS = 5\n",
    "\n",
    "def set_difficulty(level):\n",
    "    if level == 'easy':\n",
    "        return EASY_LEVEL_ATTEMPTS\n",
    "    elif level == 'hard':\n",
    "        return HARD_LEVEL_ATTEMPTS\n",
    "    else:\n",
    "        return \n",
    "        \n",
    "def check_answer(guessed_number, answer, attempts):\n",
    "    if guessed_number > answer:\n",
    "        print(\"your guess is too high\")\n",
    "        return attempts-1\n",
    "    elif guessed_number < answer:\n",
    "        print(\"your guess is too low\")\n",
    "        return attempts-1\n",
    "    else:\n",
    "        print(f'you got it! the answer was {answer}')\n",
    "        \n",
    "def game():    \n",
    "    print(\"let me think of a number between 1 to 50\")\n",
    "    answer = random.randint(1, 50)\n",
    "    level = input(\"choose level of difficulty.. Type 'easy' or 'hard': \")\n",
    "    attempts = set_difficulty(level)\n",
    "    if attempts != EASY_LEVEL_ATTEMPTS and attempts != HARD_LEVEL_ATTEMPTS:\n",
    "        print('you enterd wrong difficulty level.. play again')\n",
    "        return\n",
    "    guessed_number = 0\n",
    "    while guessed_number!=answer:\n",
    "        print(f'you have {attempts} remaining to guess the number.')\n",
    "        guessed_number = int(input(\"Guess a number:\"))\n",
    "        attempts = check_answer(guessed_number,answer,attempts)\n",
    "        if attempts == 0:\n",
    "            print(\"you are out of guesses.. you loose\")\n",
    "            return\n",
    "        elif guessed_number != answer:\n",
    "            print(\"guess Again!\")\n",
    "game()"
   ]
  },
  {
   "cell_type": "code",
   "execution_count": null,
   "id": "a8d88b23-61b3-4606-bffa-1d1658f9a226",
   "metadata": {},
   "outputs": [],
   "source": []
  },
  {
   "cell_type": "code",
   "execution_count": null,
   "id": "0b720561-f887-495a-9cb5-988e334acf47",
   "metadata": {},
   "outputs": [],
   "source": []
  }
 ],
 "metadata": {
  "kernelspec": {
   "display_name": "Python 3 (ipykernel)",
   "language": "python",
   "name": "python3"
  },
  "language_info": {
   "codemirror_mode": {
    "name": "ipython",
    "version": 3
   },
   "file_extension": ".py",
   "mimetype": "text/x-python",
   "name": "python",
   "nbconvert_exporter": "python",
   "pygments_lexer": "ipython3",
   "version": "3.12.5"
  }
 },
 "nbformat": 4,
 "nbformat_minor": 5
}
